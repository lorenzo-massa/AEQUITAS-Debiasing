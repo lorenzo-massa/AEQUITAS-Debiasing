{
 "cells": [
  {
   "cell_type": "code",
   "execution_count": null,
   "metadata": {},
   "outputs": [],
   "source": [
    "%load_ext autoreload\n",
    "%autoreload 2"
   ]
  },
  {
   "cell_type": "code",
   "execution_count": 1,
   "metadata": {},
   "outputs": [
    {
     "name": "stderr",
     "output_type": "stream",
     "text": [
      "c:\\Users\\Lorenzo\\miniconda3\\lib\\site-packages\\torch\\_functorch\\deprecated.py:61: UserWarning: We've integrated functorch into PyTorch. As the final step of the integration, functorch.vmap is deprecated as of PyTorch 2.0 and will be deleted in a future version of PyTorch >= 2.3. Please use torch.vmap instead; see the PyTorch 2.0 release notes and/or the torch.func migration guide for more details https://pytorch.org/docs/master/func.migrating.html\n",
      "  warn_deprecated('vmap', 'torch.vmap')\n"
     ]
    }
   ],
   "source": [
    "import pandas as pd\n",
    "import utils.functions as f"
   ]
  },
  {
   "cell_type": "code",
   "execution_count": 2,
   "metadata": {},
   "outputs": [],
   "source": [
    "dataset = \"direct_matching_20240213\"  # \"direct_matching_20240213\" or \"reverse_matching_20240213\"\n",
    "df_processed = pd.read_csv(f\"Data/{dataset}_processed.csv\", sep=\";\")"
   ]
  },
  {
   "cell_type": "code",
   "execution_count": 23,
   "metadata": {},
   "outputs": [
    {
     "name": "stdout",
     "output_type": "stream",
     "text": [
      "Disparate Impact: 1.4794520547945205\n",
      " Statistical Parity Difference: 0.035514967021816335\n"
     ]
    }
   ],
   "source": [
    "from aif360.datasets import BinaryLabelDataset\n",
    "from aif360.metrics import BinaryLabelDatasetMetric\n",
    "\n",
    "df = df_processed.copy()\n",
    "sector_column = \"job_sector\"\n",
    "sector = 1\n",
    "protected_attribute = \"cand_gender\"\n",
    "\n",
    "\n",
    "# Pre-filter DataFrame for the sector\n",
    "sector_df = df[df[sector_column] == sector]\n",
    "\n",
    "# Retrieve unique job IDs for the specified sector\n",
    "job_list = sector_df[\"job_id\"].unique()\n",
    "\n",
    "job = job_list[0]\n",
    "job_df = sector_df.copy()\n",
    "job_df[\"idoneous\"] = (job_df[\"job_id\"] == job).astype(int)\n",
    "\n",
    "# Drop unnecessary columns\n",
    "job_df = job_df.drop(columns=[\"job_id\", \"job_professional_category\"])\n",
    "\n",
    "# Prepare dataset for AIF360 analysis\n",
    "binaryLabelDataset = BinaryLabelDataset(\n",
    "    favorable_label=1,\n",
    "    unfavorable_label=0,\n",
    "    df=job_df,\n",
    "    label_names=[\"idoneous\"],\n",
    "    protected_attribute_names=[protected_attribute],\n",
    ")\n",
    "\n",
    "# Calculate metrics\n",
    "metric_orig = BinaryLabelDatasetMetric(\n",
    "    binaryLabelDataset,\n",
    "    privileged_groups=[{protected_attribute: 1}],\n",
    "    unprivileged_groups=[{protected_attribute: 0}],\n",
    ")\n",
    "\n",
    "original_di = metric_orig.disparate_impact()\n",
    "original_sdp = metric_orig.statistical_parity_difference()\n",
    "print(f\"Disparate Impact: {original_di}\")\n",
    "print(f\" Statistical Parity Difference: {original_sdp}\")"
   ]
  },
  {
   "cell_type": "code",
   "execution_count": 21,
   "metadata": {},
   "outputs": [
    {
     "name": "stdout",
     "output_type": "stream",
     "text": [
      "Disparate Impact: 1.4794520547945205\n",
      " Statistical Parity Difference: 0.035514967021816335\n",
      "Disparate Impact Change: 0.0\n",
      " Statistical Parity Difference Change: 0.0\n"
     ]
    }
   ],
   "source": [
    "from aif360.algorithms.preprocessing import DisparateImpactRemover\n",
    "\n",
    "level = 0.8\n",
    "di = DisparateImpactRemover(repair_level=level)\n",
    "\n",
    "# Apply the repair algorithm\n",
    "binaryLabelDataset_repaired = di.fit_transform(binaryLabelDataset)\n",
    "\n",
    "# Calculate metrics\n",
    "metric_repaired = BinaryLabelDatasetMetric(\n",
    "    binaryLabelDataset_repaired,\n",
    "    privileged_groups=[{protected_attribute: 1}],\n",
    "    unprivileged_groups=[{protected_attribute: 0}],\n",
    ")\n",
    "\n",
    "repaired_di = metric_repaired.disparate_impact()\n",
    "repaired_sdp = metric_repaired.statistical_parity_difference()\n",
    "print(f\"Disparate Impact: {repaired_di}\")\n",
    "print(f\" Statistical Parity Difference: {repaired_sdp}\")\n",
    "\n",
    "print(f\"Disparate Impact Change: {original_di - repaired_di}\")\n",
    "print(f\" Statistical Parity Difference Change: {original_sdp - repaired_sdp}\")\n",
    "# Ovviamente non cambia nulla, perché non c'è nessun ri-allenamento del modello, gli idonei sono sempre gli stessi"
   ]
  },
  {
   "cell_type": "code",
   "execution_count": 31,
   "metadata": {},
   "outputs": [],
   "source": [
    "# Compare the original and repaired datasets\n",
    "job_df_orig = binaryLabelDataset.convert_to_dataframe()[0]\n",
    "job_df_repaired = binaryLabelDataset_repaired.convert_to_dataframe()[0]"
   ]
  },
  {
   "cell_type": "code",
   "execution_count": 33,
   "metadata": {},
   "outputs": [
    {
     "name": "stdout",
     "output_type": "stream",
     "text": [
      "\n",
      "cand_id\n",
      "62535301.0\n",
      "\n",
      "distance_km\n",
      "272.019893528\n",
      "\n",
      "match_score\n",
      "1.1751099399999276\n",
      "\n",
      "cand_domicile_province\n",
      "106.0\n",
      "\n",
      "cand_domicile_region\n",
      "22.0\n",
      "\n",
      "cand_education\n",
      "7.0\n",
      "\n",
      "Croato\n",
      "2.0\n"
     ]
    }
   ],
   "source": [
    "# Print the differences between the two datasets\n",
    "for column in job_df_orig.columns:\n",
    "    difference = job_df_orig[column] - job_df_repaired[column]\n",
    "    if difference.sum() != 0:\n",
    "        print(f\"\\n{column}\")\n",
    "        print(difference.sum())"
   ]
  }
 ],
 "metadata": {
  "kernelspec": {
   "display_name": "base",
   "language": "python",
   "name": "python3"
  },
  "language_info": {
   "codemirror_mode": {
    "name": "ipython",
    "version": 3
   },
   "file_extension": ".py",
   "mimetype": "text/x-python",
   "name": "python",
   "nbconvert_exporter": "python",
   "pygments_lexer": "ipython3",
   "version": "3.10.10"
  }
 },
 "nbformat": 4,
 "nbformat_minor": 2
}
